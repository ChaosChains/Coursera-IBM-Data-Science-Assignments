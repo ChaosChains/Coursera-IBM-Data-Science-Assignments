{
  "cells": [
    {
      "cell_type": "markdown",
      "metadata": {},
      "source": [
        "# DataScienceEcosystem"
      ]
    },
    {
      "cell_type": "markdown",
      "metadata": {},
      "source": [
        "In this notebook, Data Science Tools and Ecosystem are summarized."
      ]
    },
    {
      "cell_type": "markdown",
      "metadata": {},
      "source": [
        "**Objectives:**\n",
        "- *List popular languages for Data Science*\n",
        "- *List popular libraries for Data Science*\n",
        "- *List popular data science tools and development environments.*\n",
        "- _Demonstrate arithmetic expressions in Python._\n",
        "- _Show a code cell that can convert minutes to hours._"
      ]
    },
    {
      "cell_type": "markdown",
      "metadata": {},
      "source": [
        "Some of the popular languages that Data Scientists use are:\n",
        "1. Python\n",
        "2. R\n",
        "3. SQL\n",
        "4. Scala\n",
        "5. Java\n",
        "6. C++\n",
        "7. Julia\n",
        "8. Javascript\n",
        "9. PHP\n",
        "10. GO\n",
        "11. Ruby\n",
        "12. Visual Basic"
      ]
    },
    {
      "cell_type": "markdown",
      "metadata": {},
      "source": [
        "Some of the commonly used libraries used by Data Scientists include:\n",
        "\n",
        "1. Pandas\n",
        "2. NumPy\n",
        "3. Matplotlib\n",
        "4. Seaborn\n",
        "5. Scikit-learn\n",
        "6. Keras\n",
        "7. TensorFlow\n",
        "8. PyTorch\n",
        "9. Apache Spark\n",
        "10. Vegas\n",
        "11. Big DL\n",
        "12. ggplot2"
      ]
    },
    {
      "cell_type": "markdown",
      "metadata": {},
      "source": [
        "| Data Science Tools |\n",
        "| --- |\n",
        "| JupyterLab |\n",
        "| Visual Studio Code |\n",
        "| Google Colaboratory |\n",
        "\n"
      ]
    },
    {
      "cell_type": "markdown",
      "metadata": {},
      "source": [
        "### Below are a few examples of evaluating arithmetic expressions in Python."
      ]
    },
    {
      "cell_type": "code",
      "execution_count": 5,
      "metadata": {},
      "outputs": [
        {
          "data": {
            "text/plain": [
              "17"
            ]
          },
          "execution_count": 5,
          "metadata": {},
          "output_type": "execute_result"
        }
      ],
      "source": [
        "# This is a simple arithmetic expression to multiply then add integers.\n",
        "(3*4)+5"
      ]
    },
    {
      "cell_type": "code",
      "execution_count": 16,
      "metadata": {},
      "outputs": [
        {
          "name": "stdout",
          "output_type": "stream",
          "text": [
            "3.33 hours\n"
          ]
        }
      ],
      "source": [
        "# This will convert 200 minutes to hours by dividing it by 60.\n",
        " \n",
        "print(format(200/60, \".2f\"),\"hours\")"
      ]
    },
    {
      "cell_type": "markdown",
      "metadata": {},
      "source": [
        "## Author\n",
        "Myles J"
      ]
    }
  ],
  "metadata": {
    "kernelspec": {
      "display_name": "Python 3",
      "language": "python",
      "name": "python3"
    },
    "language_info": {
      "codemirror_mode": {
        "name": "ipython",
        "version": 3
      },
      "file_extension": ".py",
      "mimetype": "text/x-python",
      "name": "python",
      "nbconvert_exporter": "python",
      "pygments_lexer": "ipython3",
      "version": "3.11.6"
    },
    "orig_nbformat": 4
  },
  "nbformat": 4,
  "nbformat_minor": 2
}
